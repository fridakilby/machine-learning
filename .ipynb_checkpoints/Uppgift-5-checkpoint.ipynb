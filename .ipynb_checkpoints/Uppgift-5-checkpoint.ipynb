{
 "cells": [
  {
   "cell_type": "markdown",
   "id": "6a0f16e6-43b4-482b-80ce-5a339d577e17",
   "metadata": {},
   "source": [
    "9. Train an SVM classifier on the MNIST dataset. Since SVM classifiers are binary\n",
    "classifiers, you will need to use one-versus-the-rest to classify all 10 digits. You\n",
    "may want to tune the hyperparameters using small validation sets to speed up the\n",
    "process. What accuracy can you reach?"
   ]
  },
  {
   "cell_type": "markdown",
   "id": "f99d2296-bbdf-4603-a806-d270289a6674",
   "metadata": {},
   "source": [
    "scale\n",
    "transform\n",
    "fit\n",
    "adjust\n",
    "score\n",
    "evaluate\n",
    "\n",
    "one vs rest \n",
    "\n",
    "lr0.fit(X, y==0)\n",
    "lr1.fit(X, y==1)\n",
    "lr2.fit(X, y==2)\n",
    "lr0.descision_function(X)[0]\n",
    "lr1.descision_function(X)[0]\n",
    "lr2.descision_function(X)[0]\n",
    "\n",
    "eller\n",
    "lr = LogisticRegression(multi_class=ovr)\n",
    "lr.fit(X,y)\n",
    "lr.predict(X)[0]\n",
    "Då får du ut den classen som är den bästa"
   ]
  },
  {
   "cell_type": "code",
   "execution_count": 4,
   "id": "6e102a15-440b-458b-af6c-ef103930f337",
   "metadata": {},
   "outputs": [],
   "source": [
    "import numpy as np\n",
    "import pandas as pd\n",
    "from sklearn.pipeline import Pipeline\n",
    "from sklearn.preprocessing import StandardScaler"
   ]
  },
  {
   "cell_type": "code",
   "execution_count": 23,
   "id": "40fd6aed-f0da-42f3-aa71-b03b48440a88",
   "metadata": {},
   "outputs": [
    {
     "name": "stderr",
     "output_type": "stream",
     "text": [
      "C:\\Users\\frida\\anaconda3\\envs\\AI\\Lib\\site-packages\\sklearn\\datasets\\_openml.py:1002: FutureWarning: The default value of `parser` will change from `'liac-arff'` to `'auto'` in 1.4. You can set `parser='auto'` to silence this warning. Therefore, an `ImportError` will be raised from 1.4 if the dataset is dense and pandas is not installed. Note that the pandas parser may return different data types. See the Notes Section in fetch_openml's API doc for details.\n",
      "  warn(\n"
     ]
    },
    {
     "ename": "AttributeError",
     "evalue": "info",
     "output_type": "error",
     "traceback": [
      "\u001b[1;31m---------------------------------------------------------------------------\u001b[0m",
      "\u001b[1;31mKeyError\u001b[0m                                  Traceback (most recent call last)",
      "File \u001b[1;32m~\\anaconda3\\envs\\AI\\Lib\\site-packages\\sklearn\\utils\\_bunch.py:54\u001b[0m, in \u001b[0;36mBunch.__getattr__\u001b[1;34m(self, key)\u001b[0m\n\u001b[0;32m     53\u001b[0m \u001b[38;5;28;01mtry\u001b[39;00m:\n\u001b[1;32m---> 54\u001b[0m     \u001b[38;5;28;01mreturn\u001b[39;00m \u001b[38;5;28mself\u001b[39m[key]\n\u001b[0;32m     55\u001b[0m \u001b[38;5;28;01mexcept\u001b[39;00m \u001b[38;5;167;01mKeyError\u001b[39;00m:\n",
      "File \u001b[1;32m~\\anaconda3\\envs\\AI\\Lib\\site-packages\\sklearn\\utils\\_bunch.py:39\u001b[0m, in \u001b[0;36mBunch.__getitem__\u001b[1;34m(self, key)\u001b[0m\n\u001b[0;32m     35\u001b[0m     warnings\u001b[38;5;241m.\u001b[39mwarn(\n\u001b[0;32m     36\u001b[0m         \u001b[38;5;28mself\u001b[39m\u001b[38;5;241m.\u001b[39m_deprecated_key_to_warnings[key],\n\u001b[0;32m     37\u001b[0m         \u001b[38;5;167;01mFutureWarning\u001b[39;00m,\n\u001b[0;32m     38\u001b[0m     )\n\u001b[1;32m---> 39\u001b[0m \u001b[38;5;28;01mreturn\u001b[39;00m \u001b[38;5;28msuper\u001b[39m()\u001b[38;5;241m.\u001b[39m\u001b[38;5;21m__getitem__\u001b[39m(key)\n",
      "\u001b[1;31mKeyError\u001b[0m: 'info'",
      "\nDuring handling of the above exception, another exception occurred:\n",
      "\u001b[1;31mAttributeError\u001b[0m                            Traceback (most recent call last)",
      "Cell \u001b[1;32mIn[23], line 13\u001b[0m\n\u001b[0;32m      6\u001b[0m y \u001b[38;5;241m=\u001b[39m df_mnist[\u001b[38;5;124m\"\u001b[39m\u001b[38;5;124mtarget\u001b[39m\u001b[38;5;124m\"\u001b[39m]\u001b[38;5;241m.\u001b[39mastype(np\u001b[38;5;241m.\u001b[39muint8)\n\u001b[0;32m      8\u001b[0m \u001b[38;5;66;03m# df_mnist.keys()\u001b[39;00m\n\u001b[0;32m      9\u001b[0m \u001b[38;5;66;03m# dict_keys=(['data', 'target', 'feature_names', 'DESCR', 'details', 'categories', 'url'])\u001b[39;00m\n\u001b[0;32m     10\u001b[0m \u001b[38;5;66;03m# print(df_mnist.frame.info())\u001b[39;00m\n\u001b[0;32m     11\u001b[0m \u001b[38;5;66;03m# print(df_mnist.frame.describe())\u001b[39;00m\n\u001b[1;32m---> 13\u001b[0m \u001b[38;5;28mprint\u001b[39m(df_mnist\u001b[38;5;241m.\u001b[39minfo())\n\u001b[0;32m     14\u001b[0m \u001b[38;5;28mprint\u001b[39m(df_mnist\u001b[38;5;241m.\u001b[39mdesc())\n",
      "File \u001b[1;32m~\\anaconda3\\envs\\AI\\Lib\\site-packages\\sklearn\\utils\\_bunch.py:56\u001b[0m, in \u001b[0;36mBunch.__getattr__\u001b[1;34m(self, key)\u001b[0m\n\u001b[0;32m     54\u001b[0m     \u001b[38;5;28;01mreturn\u001b[39;00m \u001b[38;5;28mself\u001b[39m[key]\n\u001b[0;32m     55\u001b[0m \u001b[38;5;28;01mexcept\u001b[39;00m \u001b[38;5;167;01mKeyError\u001b[39;00m:\n\u001b[1;32m---> 56\u001b[0m     \u001b[38;5;28;01mraise\u001b[39;00m \u001b[38;5;167;01mAttributeError\u001b[39;00m(key)\n",
      "\u001b[1;31mAttributeError\u001b[0m: info"
     ]
    }
   ],
   "source": [
    "# fetch data from dataset\n",
    "from sklearn.datasets import fetch_openml\n",
    "df_mnist = fetch_openml('mnist_784', version=1)\n",
    "\n",
    "X = df_mnist[\"data\"]\n",
    "y = df_mnist[\"target\"].astype(np.uint8)\n",
    "\n",
    "# df_mnist.keys()\n",
    "# dict_keys=(['data', 'target', 'feature_names', 'DESCR', 'details', 'categories', 'url'])\n",
    "# print(df_mnist.frame.info())\n",
    "# print(df_mnist.frame.describe())\n",
    "\n",
    "print(df_mnist.info())\n",
    "print(df_mnist.desc())"
   ]
  },
  {
   "cell_type": "code",
   "execution_count": null,
   "id": "aa80673a-4f35-4e8e-8f3a-d6474ae677f7",
   "metadata": {},
   "outputs": [],
   "source": []
  }
 ],
 "metadata": {
  "kernelspec": {
   "display_name": "Python 3 (ipykernel)",
   "language": "python",
   "name": "python3"
  },
  "language_info": {
   "codemirror_mode": {
    "name": "ipython",
    "version": 3
   },
   "file_extension": ".py",
   "mimetype": "text/x-python",
   "name": "python",
   "nbconvert_exporter": "python",
   "pygments_lexer": "ipython3",
   "version": "3.11.7"
  }
 },
 "nbformat": 4,
 "nbformat_minor": 5
}
