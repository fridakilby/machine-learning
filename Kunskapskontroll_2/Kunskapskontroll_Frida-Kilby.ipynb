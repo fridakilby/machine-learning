{
 "cells": [
  {
   "cell_type": "markdown",
   "id": "6fbca242-2e46-41ab-9db8-d8d413f396c1",
   "metadata": {},
   "source": [
    "# Importera relavanta bibliotek"
   ]
  },
  {
   "cell_type": "code",
   "execution_count": 1,
   "id": "27a9a83c-840a-4bc5-9085-ef9c22ae4f06",
   "metadata": {},
   "outputs": [],
   "source": [
    "import numpy as np\n",
    "import matplotlib.pyplot as plt\n",
    "import pandas as pd\n",
    "\n",
    "from sklearn.datasets import fetch_openml\n",
    "from sklearn.model_selection import train_test_split, GridSearchCV\n",
    "from sklearn.linear_model import LogisticRegression\n",
    "from sklearn.preprocessing import StandardScaler\n",
    "\n",
    "from sklearn.metrics import accuracy_score, classification_report, confusion_matrix, ConfusionMatrixDisplay\n",
    "from sklearn.neighbors import KNeighborsClassifier\n",
    "from sklearn import svm\n",
    "\n",
    "import cv2\n",
    "import joblib"
   ]
  },
  {
   "cell_type": "markdown",
   "id": "7f0e5a3c-6174-496e-b91d-f9850ea478da",
   "metadata": {},
   "source": [
    "# Hämta dataset Mnist "
   ]
  },
  {
   "cell_type": "code",
   "execution_count": 2,
   "id": "f457e9e0-2fc9-4452-ba11-a4fda0510a3b",
   "metadata": {},
   "outputs": [
    {
     "name": "stdout",
     "output_type": "stream",
     "text": [
      "**Author**: Yann LeCun, Corinna Cortes, Christopher J.C. Burges  \n",
      "**Source**: [MNIST Website](http://yann.lecun.com/exdb/mnist/) - Date unknown  \n",
      "**Please cite**:  \n",
      "\n",
      "The MNIST database of handwritten digits with 784 features, raw data available at: http://yann.lecun.com/exdb/mnist/. It can be split in a training set of the first 60,000 examples, and a test set of 10,000 examples  \n",
      "\n",
      "It is a subset of a larger set available from NIST. The digits have been size-normalized and centered in a fixed-size image. It is a good database for people who want to try learning techniques and pattern recognition methods on real-world data while spending minimal efforts on preprocessing and formatting. The original black and white (bilevel) images from NIST were size normalized to fit in a 20x20 pixel box while preserving their aspect ratio. The resulting images contain grey levels as a result of the anti-aliasing technique used by the normalization algorithm. the images were centered in a 28x28 image by computing the center of mass of the pixels, and translating the image so as to position this point at the center of the 28x28 field.  \n",
      "\n",
      "With some classification methods (particularly template-based methods, such as SVM and K-nearest neighbors), the error rate improves when the digits are centered by bounding box rather than center of mass. If you do this kind of pre-processing, you should report it in your publications. The MNIST database was constructed from NIST's NIST originally designated SD-3 as their training set and SD-1 as their test set. However, SD-3 is much cleaner and easier to recognize than SD-1. The reason for this can be found on the fact that SD-3 was collected among Census Bureau employees, while SD-1 was collected among high-school students. Drawing sensible conclusions from learning experiments requires that the result be independent of the choice of training set and test among the complete set of samples. Therefore it was necessary to build a new database by mixing NIST's datasets.  \n",
      "\n",
      "The MNIST training set is composed of 30,000 patterns from SD-3 and 30,000 patterns from SD-1. Our test set was composed of 5,000 patterns from SD-3 and 5,000 patterns from SD-1. The 60,000 pattern training set contained examples from approximately 250 writers. We made sure that the sets of writers of the training set and test set were disjoint. SD-1 contains 58,527 digit images written by 500 different writers. In contrast to SD-3, where blocks of data from each writer appeared in sequence, the data in SD-1 is scrambled. Writer identities for SD-1 is available and we used this information to unscramble the writers. We then split SD-1 in two: characters written by the first 250 writers went into our new training set. The remaining 250 writers were placed in our test set. Thus we had two sets with nearly 30,000 examples each. The new training set was completed with enough examples from SD-3, starting at pattern # 0, to make a full set of 60,000 training patterns. Similarly, the new test set was completed with SD-3 examples starting at pattern # 35,000 to make a full set with 60,000 test patterns. Only a subset of 10,000 test images (5,000 from SD-1 and 5,000 from SD-3) is available on this site. The full 60,000 sample training set is available.\n",
      "\n",
      "Downloaded from openml.org.\n"
     ]
    }
   ],
   "source": [
    "mnist = fetch_openml('mnist_784', version=1, cache=True, as_frame=False, parser='auto')\n",
    "print(mnist.DESCR)"
   ]
  },
  {
   "cell_type": "code",
   "execution_count": 3,
   "id": "43b98a4d-0439-4169-bef6-68de8719e316",
   "metadata": {},
   "outputs": [],
   "source": [
    "X = mnist[\"data\"]\n",
    "y = mnist[\"target\"].astype(np.uint8)"
   ]
  },
  {
   "cell_type": "markdown",
   "id": "04e886d9-0102-4c19-8725-321c0c07dc5d",
   "metadata": {},
   "source": [
    "# Dela upp data samt skapa tränings, test och validerings set"
   ]
  },
  {
   "cell_type": "code",
   "execution_count": 4,
   "id": "322e0577-cd11-4ef7-8202-9dc3b10e438e",
   "metadata": {},
   "outputs": [],
   "source": [
    "X_train, X_test, y_train, y_test = train_test_split(X, y, test_size=10000, random_state=42)"
   ]
  },
  {
   "cell_type": "code",
   "execution_count": 5,
   "id": "5302aef3-c882-4c06-9563-a624c9313e44",
   "metadata": {},
   "outputs": [],
   "source": [
    "X_train_val, X_val, y_train_val, y_val = train_test_split(X_train, y_train, test_size=10000, random_state=42)"
   ]
  },
  {
   "cell_type": "markdown",
   "id": "b84c88d4-45b8-4316-9bf2-e69e9adc21af",
   "metadata": {},
   "source": [
    "# Kör en EDA för att bekanta dig med innehållet i MNIST"
   ]
  },
  {
   "cell_type": "code",
   "execution_count": 6,
   "id": "34d5dbfb-b38b-4497-8b3a-aa2ef912736c",
   "metadata": {},
   "outputs": [
    {
     "name": "stdout",
     "output_type": "stream",
     "text": [
      "(50000, 784)\n",
      "(10000, 784)\n",
      "(10000, 784)\n",
      "(50000,)\n",
      "(10000,)\n",
      "(10000,)\n"
     ]
    }
   ],
   "source": [
    "print(X_train_val.shape)\n",
    "print(X_val.shape)\n",
    "print(X_test.shape)\n",
    "print(y_train_val.shape)\n",
    "print(y_val.shape)\n",
    "print(y_test.shape)"
   ]
  },
  {
   "cell_type": "code",
   "execution_count": 7,
   "id": "3be3525e-1479-4d9f-8656-257723710c1c",
   "metadata": {},
   "outputs": [
    {
     "name": "stdout",
     "output_type": "stream",
     "text": [
      "<class 'pandas.core.frame.DataFrame'>\n",
      "RangeIndex: 50000 entries, 0 to 49999\n",
      "Columns: 784 entries, 0 to 783\n",
      "dtypes: int64(784)\n",
      "memory usage: 299.1 MB\n",
      "None\n"
     ]
    }
   ],
   "source": [
    "print (pd.DataFrame(X_train_val).info())"
   ]
  },
  {
   "cell_type": "code",
   "execution_count": 8,
   "id": "7b0e53bb-c256-4c0a-b393-2f81b2285eb1",
   "metadata": {
    "scrolled": true
   },
   "outputs": [
    {
     "name": "stdout",
     "output_type": "stream",
     "text": [
      "[  0   0   0   0   0   0   0   0   0   0   0   0   0   0   0   0   0   0\n",
      "   0   0   0   0   0   0   0   0   0   0   0   0   0   0   0   0   0   0\n",
      "   0   0   0   0   0   0   0   0   0   0   0   0   0   0   0   0   0   0\n",
      "   0   0   0   0   0   0   0   0   0   0   0   0   0   0   0   0   0   0\n",
      "   0   0   0   0   0   0   0   0   0   0   0   0   0   0   0   0   0   0\n",
      "   0   0   0   0   0   0   0   0   0   0   0   0   0   0   0   0   0   0\n",
      "   0   0   0   0   0   0   0   0   0   0   0   0   0   0   0   0   0   0\n",
      "   0   0   0   0   0   0   0   0   0   0   0   0   0   0   0   0   0   0\n",
      "   0   0   0   0   0   0   0   0   0   0   0   0   0   0  11 213 193  30\n",
      "   0   0   0   0   0   0   0   0   0   0   0   0   0   0   0   0   0   0\n",
      "   0   0   0   0   0   0  92 252 233  30   0   0   0   0   0   0   0   0\n",
      "   0   0   0   0   0   0   0   0   0   0   0   0  31  31   0   0 173 253\n",
      " 102   0   0   0   0   0   0   0   0   0   0   0   0   0   0   0   0   0\n",
      "   0   0   0 123 233 151   0   0 253 252 102   0   0   0   0   0   0   0\n",
      "   0   0   0   0   0   0   0   0   0   0   0  21 173 253 244 122   0 102\n",
      " 254 253 102   0   0   0   0   0   0   0   0   0   0   0   0   0   0   0\n",
      "   0   0  41 223 253 252 162   0   0 183 253 252  20   0   0   0   0   0\n",
      "   0   0   0   0   0   0   0   0   0   0   0  82 214 253 254 131   0   0\n",
      "  51 253 254 192   0   0   0   0   0   0   0   0   0   0   0   0   0   0\n",
      "   0   0  82 243 253 252 131  10   0   0 132 252 253  70   0   0   0   0\n",
      "   0   0   0   0   0   0   0   0   0   0   0 123 254 253 244  81   0   0\n",
      "   0  21 214 253 254  71  31  51   0   0   0   0   0   0   0   0   0   0\n",
      "   0   0 163 243 253 252  81   0   0   0  62 162 253 252 253 232 233 252\n",
      " 123   0   0   0   0   0   0   0   0   0  31 193 254 253 254 253 254 253\n",
      " 254 253 254 253 254 253 254 253 255 253 183   0   0   0   0   0   0   0\n",
      "   0   0  51 252 253 252 253 252 253 252 253 252 253 252 253 252 233 151\n",
      " 151 111  20   0   0   0   0   0   0   0   0   0   0 123 203 203 203 162\n",
      " 123 162 102 102 193 253 254 131   0   0   0   0   0   0   0   0   0   0\n",
      "   0   0   0   0   0   0   0   0   0   0   0   0   0   0 233 252 253  50\n",
      "   0   0   0   0   0   0   0   0   0   0   0   0   0   0   0   0   0   0\n",
      "   0   0   0   0   0   0 254 253 203   0   0   0   0   0   0   0   0   0\n",
      "   0   0   0   0   0   0   0   0   0   0   0   0   0   0   0   0 253 252\n",
      " 203   0   0   0   0   0   0   0   0   0   0   0   0   0   0   0   0   0\n",
      "   0   0   0   0   0   0   0 123 255 253 142   0   0   0   0   0   0   0\n",
      "   0   0   0   0   0   0   0   0   0   0   0   0   0   0   0   0   0 203\n",
      " 253 252 102   0   0   0   0   0   0   0   0   0   0   0   0   0   0   0\n",
      "   0   0   0   0   0   0   0   0  31 233 255 253  41   0   0   0   0   0\n",
      "   0   0   0   0   0   0   0   0   0   0   0   0   0   0   0   0   0   0\n",
      "  10 212 253 171   0   0   0   0   0   0   0   0   0   0   0   0   0   0\n",
      "   0   0   0   0   0   0   0   0   0   0   0   0   0   0   0   0   0   0\n",
      "   0   0   0   0   0   0   0   0   0   0   0   0   0   0   0   0   0   0\n",
      "   0   0   0   0   0   0   0   0   0   0   0   0   0   0   0   0   0   0\n",
      "   0   0   0   0   0   0   0   0   0   0   0   0   0   0   0   0   0   0\n",
      "   0   0   0   0   0   0   0   0   0   0]\n"
     ]
    }
   ],
   "source": [
    "print (X_train_val[0])"
   ]
  },
  {
   "cell_type": "code",
   "execution_count": 9,
   "id": "2e48357b-70c2-4904-a523-d6efa8779a90",
   "metadata": {},
   "outputs": [
    {
     "data": {
      "text/plain": [
       "<matplotlib.image.AxesImage at 0x21b04a5bf90>"
      ]
     },
     "execution_count": 9,
     "metadata": {},
     "output_type": "execute_result"
    },
    {
     "data": {
      "image/png": "[encoded data removed]",
      "text/plain": [
       "<Figure size 640x480 with 3 Axes>"
      ]
     },
     "metadata": {},
     "output_type": "display_data"
    }
   ],
   "source": [
    "plt.subplot(431)\n",
    "plt.imshow((X_train_val[0].reshape(28,28)), cmap=plt.cm.gray_r, interpolation='nearest')\n",
    "plt.subplot(432)\n",
    "plt.imshow((X_train_val[1].reshape(28,28)), cmap=plt.cm.gray_r, interpolation='nearest')\n",
    "plt.subplot(433)\n",
    "plt.imshow((X_train_val[2].reshape(28,28)), cmap=plt.cm.gray_r, interpolation='nearest')"
   ]
  },
  {
   "cell_type": "code",
   "execution_count": 10,
   "id": "75d78e38-8150-4741-90e5-0bed563b9aab",
   "metadata": {},
   "outputs": [
    {
     "name": "stdout",
     "output_type": "stream",
     "text": [
      "First number:  4\n",
      "Second number:  4\n",
      "Third number:  7\n"
     ]
    }
   ],
   "source": [
    "print(\"First number: \", y_train_val[0])\n",
    "print(\"Second number: \", y_train_val[1]) \n",
    "print(\"Third number: \", y_train_val[2])"
   ]
  },
  {
   "cell_type": "markdown",
   "id": "68ccaeba-1737-45df-b6cf-e2a73e6d0264",
   "metadata": {},
   "source": [
    "# Välja modeller för att träna datan på"
   ]
  },
  {
   "cell_type": "markdown",
   "id": "573bcdc9-7136-4cdc-95da-7c7f6eb54ed5",
   "metadata": {},
   "source": [
    "### 1 LOGISTIC REGRESSION"
   ]
  },
  {
   "cell_type": "code",
   "execution_count": 11,
   "id": "447d87ac-379e-42fb-b7a4-cd1b394c4f07",
   "metadata": {},
   "outputs": [
    {
     "name": "stdout",
     "output_type": "stream",
     "text": [
      "Accuracy of model = 0.9186\n"
     ]
    },
    {
     "name": "stderr",
     "output_type": "stream",
     "text": [
      "C:\\Users\\frida\\anaconda3\\envs\\Streamlit\\Lib\\site-packages\\sklearn\\linear_model\\_logistic.py:469: ConvergenceWarning: lbfgs failed to converge (status=1):\n",
      "STOP: TOTAL NO. of ITERATIONS REACHED LIMIT.\n",
      "\n",
      "Increase the number of iterations (max_iter) or scale the data as shown in:\n",
      "    https://scikit-learn.org/stable/modules/preprocessing.html\n",
      "Please also refer to the documentation for alternative solver options:\n",
      "    https://scikit-learn.org/stable/modules/linear_model.html#logistic-regression\n",
      "  n_iter_i = _check_optimize_result(\n"
     ]
    }
   ],
   "source": [
    "class_lr = LogisticRegression()\n",
    "class_lr.fit(X_train_val, y_train_val)\n",
    "\n",
    "y_val_pred_lr = class_lr.predict(X_val)\n",
    "print(\"Accuracy of model =\", accuracy_score(y_val, y_val_pred_lr))"
   ]
  },
  {
   "cell_type": "code",
   "execution_count": 12,
   "id": "9eb2fb2a-1c6b-4b20-8dfb-1bbd8dedfa1f",
   "metadata": {},
   "outputs": [
    {
     "data": {
      "text/plain": [
       "<sklearn.metrics._plot.confusion_matrix.ConfusionMatrixDisplay at 0x21b04a16a10>"
      ]
     },
     "execution_count": 12,
     "metadata": {},
     "output_type": "execute_result"
    },
    {
     "data": {
      "image/png": "[encoded data removed]",
      "text/plain": [
       "<Figure size 640x480 with 2 Axes>"
      ]
     },
     "metadata": {},
     "output_type": "display_data"
    }
   ],
   "source": [
    "confmatrix = confusion_matrix(y_val, y_val_pred_lr, labels=class_lr.classes_)\n",
    "display_matrix = ConfusionMatrixDisplay(confusion_matrix=confmatrix, display_labels=class_lr.classes_)\n",
    "display_matrix.plot()"
   ]
  },
  {
   "cell_type": "code",
   "execution_count": 13,
   "id": "150d2a7d-be15-424a-a1ff-6cec9f4242cd",
   "metadata": {},
   "outputs": [
    {
     "name": "stdout",
     "output_type": "stream",
     "text": [
      "              precision    recall  f1-score   support\n",
      "\n",
      "           0       0.95      0.96      0.96       997\n",
      "           1       0.96      0.97      0.97      1158\n",
      "           2       0.91      0.90      0.91      1007\n",
      "           3       0.91      0.88      0.89      1028\n",
      "           4       0.93      0.93      0.93       966\n",
      "           5       0.87      0.86      0.86       885\n",
      "           6       0.93      0.96      0.94       945\n",
      "           7       0.95      0.93      0.94      1070\n",
      "           8       0.88      0.87      0.87       988\n",
      "           9       0.88      0.91      0.90       956\n",
      "\n",
      "    accuracy                           0.92     10000\n",
      "   macro avg       0.92      0.92      0.92     10000\n",
      "weighted avg       0.92      0.92      0.92     10000\n",
      "\n"
     ]
    }
   ],
   "source": [
    "print(classification_report(y_val, y_val_pred_lr))"
   ]
  },
  {
   "cell_type": "code",
   "execution_count": 14,
   "id": "7437cba8-17c4-45b2-9085-770d4427a37c",
   "metadata": {},
   "outputs": [
    {
     "name": "stdout",
     "output_type": "stream",
     "text": [
      "Accuracy of model = 0.9069\n"
     ]
    },
    {
     "name": "stderr",
     "output_type": "stream",
     "text": [
      "C:\\Users\\frida\\anaconda3\\envs\\Streamlit\\Lib\\site-packages\\sklearn\\linear_model\\_logistic.py:469: ConvergenceWarning: lbfgs failed to converge (status=1):\n",
      "STOP: TOTAL NO. of ITERATIONS REACHED LIMIT.\n",
      "\n",
      "Increase the number of iterations (max_iter) or scale the data as shown in:\n",
      "    https://scikit-learn.org/stable/modules/preprocessing.html\n",
      "Please also refer to the documentation for alternative solver options:\n",
      "    https://scikit-learn.org/stable/modules/linear_model.html#logistic-regression\n",
      "  n_iter_i = _check_optimize_result(\n"
     ]
    }
   ],
   "source": [
    "# Trying Logistic Regression again but with a higher number of Max-interations\n",
    "class_lr = LogisticRegression(max_iter=10000)\n",
    "class_lr.fit(X_train_val, y_train_val)\n",
    "\n",
    "y_val_pred_iter = class_lr.predict(X_val)\n",
    "print(\"Accuracy of model =\", accuracy_score(y_val, y_val_pred_iter))"
   ]
  },
  {
   "cell_type": "code",
   "execution_count": 15,
   "id": "f53c6eb4-d4ab-4254-a015-eddc551507b5",
   "metadata": {},
   "outputs": [
    {
     "name": "stdout",
     "output_type": "stream",
     "text": [
      "Accuracy of model = 0.911\n"
     ]
    }
   ],
   "source": [
    "# Trying Logistic Regression again but with a higher number of Max-interations and preprocessed data\n",
    "class_lr = LogisticRegression(max_iter=10000)\n",
    "\n",
    "scaler = StandardScaler()\n",
    "X_train_val_scale = scaler.fit_transform(X_train_val)\n",
    "X_val_scale = scaler.transform(X_val)\n",
    "\n",
    "class_lr.fit(X_train_val_scale, y_train_val)\n",
    "\n",
    "y_val_pred_scale = class_lr.predict(X_val_scale)\n",
    "print(\"Accuracy of model =\", accuracy_score(y_val, y_val_pred_scale))"
   ]
  },
  {
   "cell_type": "markdown",
   "id": "d3940391-485c-4d6e-9227-b743e2044a1f",
   "metadata": {},
   "source": [
    "### 2 SUPPORT VECTOR MACHINE"
   ]
  },
  {
   "cell_type": "code",
   "execution_count": 16,
   "id": "8c45fd21-1c7a-45ab-a07b-6ee1e625ee62",
   "metadata": {},
   "outputs": [
    {
     "name": "stdout",
     "output_type": "stream",
     "text": [
      "Accuracy of model = 0.9788\n"
     ]
    }
   ],
   "source": [
    "class_svc = svm.SVC()\n",
    "class_svc.fit(X_train_val, y_train_val)\n",
    "\n",
    "y_val_pred_svc = class_svc.predict(X_val)\n",
    "print(\"Accuracy of model =\", accuracy_score(y_val, y_val_pred_svc))"
   ]
  },
  {
   "cell_type": "code",
   "execution_count": 17,
   "id": "2a237845-3d5b-4b86-9d4f-8588b429f69c",
   "metadata": {},
   "outputs": [
    {
     "name": "stdout",
     "output_type": "stream",
     "text": [
      "              precision    recall  f1-score   support\n",
      "\n",
      "           0       0.99      0.99      0.99       997\n",
      "           1       0.99      0.99      0.99      1158\n",
      "           2       0.97      0.98      0.98      1007\n",
      "           3       0.98      0.96      0.97      1028\n",
      "           4       0.97      0.98      0.98       966\n",
      "           5       0.97      0.98      0.98       885\n",
      "           6       0.98      0.99      0.99       945\n",
      "           7       0.98      0.98      0.98      1070\n",
      "           8       0.98      0.97      0.97       988\n",
      "           9       0.97      0.97      0.97       956\n",
      "\n",
      "    accuracy                           0.98     10000\n",
      "   macro avg       0.98      0.98      0.98     10000\n",
      "weighted avg       0.98      0.98      0.98     10000\n",
      "\n"
     ]
    }
   ],
   "source": [
    "print(classification_report(y_val, y_val_pred_svc))"
   ]
  },
  {
   "cell_type": "code",
   "execution_count": 18,
   "id": "6186f0bb-5a9b-4f5b-892c-e9131b3fa609",
   "metadata": {},
   "outputs": [
    {
     "data": {
      "text/plain": [
       "<sklearn.metrics._plot.confusion_matrix.ConfusionMatrixDisplay at 0x21b05492a50>"
      ]
     },
     "execution_count": 18,
     "metadata": {},
     "output_type": "execute_result"
    },
    {
     "data": {
      "image/png": "[encoded data removed]",
      "text/plain": [
       "<Figure size 640x480 with 2 Axes>"
      ]
     },
     "metadata": {},
     "output_type": "display_data"
    }
   ],
   "source": [
    "confmatrix = confusion_matrix(y_val, y_val_pred_svc, labels=class_svc.classes_)\n",
    "display_matrix = ConfusionMatrixDisplay(confusion_matrix=confmatrix, display_labels=class_svc.classes_)\n",
    "display_matrix.plot()"
   ]
  },
  {
   "cell_type": "markdown",
   "id": "654fbc4c-78b2-4320-83ce-cfd936fca28d",
   "metadata": {},
   "source": [
    "### 3 KN NEIGHBORS"
   ]
  },
  {
   "cell_type": "code",
   "execution_count": 19,
   "id": "fed850ec-ee06-4d33-b323-bfa00cf53db8",
   "metadata": {},
   "outputs": [
    {
     "name": "stdout",
     "output_type": "stream",
     "text": [
      "Accuracy of model = 0.9702\n"
     ]
    }
   ],
   "source": [
    "class_KNN = KNeighborsClassifier()\n",
    "class_KNN.fit(X_train_val, y_train_val)\n",
    "\n",
    "y_val_pred_KNN = class_KNN.predict(X_val)\n",
    "print(\"Accuracy of model =\", accuracy_score(y_val, y_val_pred_KNN))"
   ]
  },
  {
   "cell_type": "code",
   "execution_count": 20,
   "id": "f1230c8d-811f-4381-afbf-b2b9999cb347",
   "metadata": {},
   "outputs": [
    {
     "name": "stdout",
     "output_type": "stream",
     "text": [
      "              precision    recall  f1-score   support\n",
      "\n",
      "           0       0.97      0.99      0.98       997\n",
      "           1       0.96      0.99      0.97      1158\n",
      "           2       0.98      0.96      0.97      1007\n",
      "           3       0.98      0.96      0.97      1028\n",
      "           4       0.98      0.97      0.97       966\n",
      "           5       0.96      0.96      0.96       885\n",
      "           6       0.98      0.99      0.99       945\n",
      "           7       0.96      0.97      0.96      1070\n",
      "           8       0.99      0.93      0.96       988\n",
      "           9       0.96      0.97      0.96       956\n",
      "\n",
      "    accuracy                           0.97     10000\n",
      "   macro avg       0.97      0.97      0.97     10000\n",
      "weighted avg       0.97      0.97      0.97     10000\n",
      "\n"
     ]
    }
   ],
   "source": [
    "print(classification_report(y_val, y_val_pred_KNN))"
   ]
  },
  {
   "cell_type": "code",
   "execution_count": 21,
   "id": "71018b3a-bf83-4968-8c16-499540f54a19",
   "metadata": {},
   "outputs": [
    {
     "data": {
      "text/plain": [
       "<sklearn.metrics._plot.confusion_matrix.ConfusionMatrixDisplay at 0x21b04a1d450>"
      ]
     },
     "execution_count": 21,
     "metadata": {},
     "output_type": "execute_result"
    },
    {
     "data": {
      "image/png": "[encoded data removed]",
      "text/plain": [
       "<Figure size 640x480 with 2 Axes>"
      ]
     },
     "metadata": {},
     "output_type": "display_data"
    }
   ],
   "source": [
    "confmatrix = confusion_matrix(y_val, y_val_pred_KNN, labels=class_KNN.classes_)\n",
    "display_matrix = ConfusionMatrixDisplay(confusion_matrix=confmatrix, display_labels=class_KNN.classes_)\n",
    "display_matrix.plot()"
   ]
  },
  {
   "cell_type": "markdown",
   "id": "9abac637-1586-4c07-8d41-7452f92bf0a6",
   "metadata": {},
   "source": [
    "### Jämförelse av modeller"
   ]
  },
  {
   "cell_type": "code",
   "execution_count": 22,
   "id": "c6f0d4b5-2122-4ef0-a13f-9eb5c5fa6849",
   "metadata": {},
   "outputs": [
    {
     "name": "stdout",
     "output_type": "stream",
     "text": [
      "De modeller som är testade hade följande precision:\n",
      "LR: 0.9186\n",
      "SVC: 0.9788\n",
      "KNN: 0.9702\n"
     ]
    }
   ],
   "source": [
    "print(\"De modeller som är testade hade följande precision:\")\n",
    "print(\"LR:\", accuracy_score(y_val, y_val_pred_lr))\n",
    "print(\"SVC:\", accuracy_score(y_val, y_val_pred_svc))\n",
    "print(\"KNN:\",accuracy_score(y_val, y_val_pred_KNN))"
   ]
  },
  {
   "cell_type": "markdown",
   "id": "7b17268e-dedd-406c-8804-03021421758d",
   "metadata": {},
   "source": [
    "# Gridserach för att trimma valda SVC-modellen"
   ]
  },
  {
   "cell_type": "markdown",
   "id": "e6e0bcb8-51b9-4782-a2c2-5f119220e107",
   "metadata": {},
   "source": [
    "### Bearbeta data med skalningsmodell"
   ]
  },
  {
   "cell_type": "code",
   "execution_count": 23,
   "id": "4e178e5c-f0f8-4b69-8125-ed256258d36a",
   "metadata": {},
   "outputs": [
    {
     "data": {
      "text/plain": [
       "['./scaler_model.joblib']"
      ]
     },
     "execution_count": 23,
     "metadata": {},
     "output_type": "execute_result"
    }
   ],
   "source": [
    "scaler_model = StandardScaler()\n",
    "X_train_val_scale = scaler_model.fit_transform(X_train_val)\n",
    "X_val_scale = scaler_model.transform(X_val)\n",
    "joblib.dump(scaler_model, \"./scaler_model.joblib\")"
   ]
  },
  {
   "cell_type": "code",
   "execution_count": 24,
   "id": "f7b82df6-c816-4b17-a77e-9407ae316685",
   "metadata": {},
   "outputs": [
    {
     "name": "stdout",
     "output_type": "stream",
     "text": [
      "Accuracy of model = 0.9632\n"
     ]
    }
   ],
   "source": [
    "class_svc_scale = svm.SVC()\n",
    "class_svc_scale.fit(X_train_val_scale, y_train_val)\n",
    "\n",
    "y_val_pred_svc_scale = class_svc_scale.predict(X_val_scale)\n",
    "print(\"Accuracy of model =\", accuracy_score(y_val, y_val_pred_svc_scale))"
   ]
  },
  {
   "cell_type": "code",
   "execution_count": 25,
   "id": "30df05bc-c64b-458e-bc05-3724f0611cb4",
   "metadata": {},
   "outputs": [
    {
     "data": {
      "text/plain": [
       "['./class_svc_model.joblib']"
      ]
     },
     "execution_count": 25,
     "metadata": {},
     "output_type": "execute_result"
    }
   ],
   "source": [
    "joblib.dump(class_svc_scale, \"./class_svc_model.joblib\")"
   ]
  },
  {
   "cell_type": "markdown",
   "id": "172f80d5-fe8a-424f-bb31-a0b3b0d7d76d",
   "metadata": {},
   "source": [
    "### Skapa ett mindre träningsset för Gridsearch"
   ]
  },
  {
   "cell_type": "code",
   "execution_count": 26,
   "id": "36de0dd8-02d5-433e-8350-917c7368a010",
   "metadata": {},
   "outputs": [],
   "source": [
    "X_train_gs, X_gs, y_train_gs, y_gs = train_test_split(X_train, y_train, train_size=5000, test_size=1000, random_state=42)\n",
    "scaler_model = StandardScaler()\n",
    "X_train_gs_scale = scaler_model.fit_transform(X_train_gs)\n",
    "X_gs_scale = scaler_model.transform(X_gs)"
   ]
  },
  {
   "cell_type": "code",
   "execution_count": 27,
   "id": "ac7b5a84-1906-46ee-8e8c-a849d18b38ef",
   "metadata": {},
   "outputs": [
    {
     "data": {
      "text/html": [
       "<style>#sk-container-id-1 {\n",
       "  /* Definition of color scheme common for light and dark mode */\n",
       "  --sklearn-color-text: black;\n",
       "  --sklearn-color-line: gray;\n",
       "  /* Definition of color scheme for unfitted estimators */\n",
       "  --sklearn-color-unfitted-level-0: #fff5e6;\n",
       "  --sklearn-color-unfitted-level-1: #f6e4d2;\n",
       "  --sklearn-color-unfitted-level-2: #ffe0b3;\n",
       "  --sklearn-color-unfitted-level-3: chocolate;\n",
       "  /* Definition of color scheme for fitted estimators */\n",
       "  --sklearn-color-fitted-level-0: #f0f8ff;\n",
       "  --sklearn-color-fitted-level-1: #d4ebff;\n",
       "  --sklearn-color-fitted-level-2: #b3dbfd;\n",
       "  --sklearn-color-fitted-level-3: cornflowerblue;\n",
       "\n",
       "  /* Specific color for light theme */\n",
       "  --sklearn-color-text-on-default-background: var(--sg-text-color, var(--theme-code-foreground, var(--jp-content-font-color1, black)));\n",
       "  --sklearn-color-background: var(--sg-background-color, var(--theme-background, var(--jp-layout-color0, white)));\n",
       "  --sklearn-color-border-box: var(--sg-text-color, var(--theme-code-foreground, var(--jp-content-font-color1, black)));\n",
       "  --sklearn-color-icon: #696969;\n",
       "\n",
       "  @media (prefers-color-scheme: dark) {\n",
       "    /* Redefinition of color scheme for dark theme */\n",
       "    --sklearn-color-text-on-default-background: var(--sg-text-color, var(--theme-code-foreground, var(--jp-content-font-color1, white)));\n",
       "    --sklearn-color-background: var(--sg-background-color, var(--theme-background, var(--jp-layout-color0, #111)));\n",
       "    --sklearn-color-border-box: var(--sg-text-color, var(--theme-code-foreground, var(--jp-content-font-color1, white)));\n",
       "    --sklearn-color-icon: #878787;\n",
       "  }\n",
       "}\n",
       "\n",
       "#sk-container-id-1 {\n",
       "  color: var(--sklearn-color-text);\n",
       "}\n",
       "\n",
       "#sk-container-id-1 pre {\n",
       "  padding: 0;\n",
       "}\n",
       "\n",
       "#sk-container-id-1 input.sk-hidden--visually {\n",
       "  border: 0;\n",
       "  clip: rect(1px 1px 1px 1px);\n",
       "  clip: rect(1px, 1px, 1px, 1px);\n",
       "  height: 1px;\n",
       "  margin: -1px;\n",
       "  overflow: hidden;\n",
       "  padding: 0;\n",
       "  position: absolute;\n",
       "  width: 1px;\n",
       "}\n",
       "\n",
       "#sk-container-id-1 div.sk-dashed-wrapped {\n",
       "  border: 1px dashed var(--sklearn-color-line);\n",
       "  margin: 0 0.4em 0.5em 0.4em;\n",
       "  box-sizing: border-box;\n",
       "  padding-bottom: 0.4em;\n",
       "  background-color: var(--sklearn-color-background);\n",
       "}\n",
       "\n",
       "#sk-container-id-1 div.sk-container {\n",
       "  /* jupyter's `normalize.less` sets `[hidden] { display: none; }`\n",
       "     but bootstrap.min.css set `[hidden] { display: none !important; }`\n",
       "     so we also need the `!important` here to be able to override the\n",
       "     default hidden behavior on the sphinx rendered scikit-learn.org.\n",
       "     See: https://github.com/scikit-learn/scikit-learn/issues/21755 */\n",
       "  display: inline-block !important;\n",
       "  position: relative;\n",
       "}\n",
       "\n",
       "#sk-container-id-1 div.sk-text-repr-fallback {\n",
       "  display: none;\n",
       "}\n",
       "\n",
       "div.sk-parallel-item,\n",
       "div.sk-serial,\n",
       "div.sk-item {\n",
       "  /* draw centered vertical line to link estimators */\n",
       "  background-image: linear-gradient(var(--sklearn-color-text-on-default-background), var(--sklearn-color-text-on-default-background));\n",
       "  background-size: 2px 100%;\n",
       "  background-repeat: no-repeat;\n",
       "  background-position: center center;\n",
       "}\n",
       "\n",
       "/* Parallel-specific style estimator block */\n",
       "\n",
       "#sk-container-id-1 div.sk-parallel-item::after {\n",
       "  content: \"\";\n",
       "  width: 100%;\n",
       "  border-bottom: 2px solid var(--sklearn-color-text-on-default-background);\n",
       "  flex-grow: 1;\n",
       "}\n",
       "\n",
       "#sk-container-id-1 div.sk-parallel {\n",
       "  display: flex;\n",
       "  align-items: stretch;\n",
       "  justify-content: center;\n",
       "  background-color: var(--sklearn-color-background);\n",
       "  position: relative;\n",
       "}\n",
       "\n",
       "#sk-container-id-1 div.sk-parallel-item {\n",
       "  display: flex;\n",
       "  flex-direction: column;\n",
       "}\n",
       "\n",
       "#sk-container-id-1 div.sk-parallel-item:first-child::after {\n",
       "  align-self: flex-end;\n",
       "  width: 50%;\n",
       "}\n",
       "\n",
       "#sk-container-id-1 div.sk-parallel-item:last-child::after {\n",
       "  align-self: flex-start;\n",
       "  width: 50%;\n",
       "}\n",
       "\n",
       "#sk-container-id-1 div.sk-parallel-item:only-child::after {\n",
       "  width: 0;\n",
       "}\n",
       "\n",
       "/* Serial-specific style estimator block */\n",
       "\n",
       "#sk-container-id-1 div.sk-serial {\n",
       "  display: flex;\n",
       "  flex-direction: column;\n",
       "  align-items: center;\n",
       "  background-color: var(--sklearn-color-background);\n",
       "  padding-right: 1em;\n",
       "  padding-left: 1em;\n",
       "}\n",
       "\n",
       "\n",
       "/* Toggleable style: style used for estimator/Pipeline/ColumnTransformer box that is\n",
       "clickable and can be expanded/collapsed.\n",
       "- Pipeline and ColumnTransformer use this feature and define the default style\n",
       "- Estimators will overwrite some part of the style using the `sk-estimator` class\n",
       "*/\n",
       "\n",
       "/* Pipeline and ColumnTransformer style (default) */\n",
       "\n",
       "#sk-container-id-1 div.sk-toggleable {\n",
       "  /* Default theme specific background. It is overwritten whether we have a\n",
       "  specific estimator or a Pipeline/ColumnTransformer */\n",
       "  background-color: var(--sklearn-color-background);\n",
       "}\n",
       "\n",
       "/* Toggleable label */\n",
       "#sk-container-id-1 label.sk-toggleable__label {\n",
       "  cursor: pointer;\n",
       "  display: block;\n",
       "  width: 100%;\n",
       "  margin-bottom: 0;\n",
       "  padding: 0.5em;\n",
       "  box-sizing: border-box;\n",
       "  text-align: center;\n",
       "}\n",
       "\n",
       "#sk-container-id-1 label.sk-toggleable__label-arrow:before {\n",
       "  /* Arrow on the left of the label */\n",
       "  content: \"▸\";\n",
       "  float: left;\n",
       "  margin-right: 0.25em;\n",
       "  color: var(--sklearn-color-icon);\n",
       "}\n",
       "\n",
       "#sk-container-id-1 label.sk-toggleable__label-arrow:hover:before {\n",
       "  color: var(--sklearn-color-text);\n",
       "}\n",
       "\n",
       "/* Toggleable content - dropdown */\n",
       "\n",
       "#sk-container-id-1 div.sk-toggleable__content {\n",
       "  max-height: 0;\n",
       "  max-width: 0;\n",
       "  overflow: hidden;\n",
       "  text-align: left;\n",
       "  /* unfitted */\n",
       "  background-color: var(--sklearn-color-unfitted-level-0);\n",
       "}\n",
       "\n",
       "#sk-container-id-1 div.sk-toggleable__content.fitted {\n",
       "  /* fitted */\n",
       "  background-color: var(--sklearn-color-fitted-level-0);\n",
       "}\n",
       "\n",
       "#sk-container-id-1 div.sk-toggleable__content pre {\n",
       "  margin: 0.2em;\n",
       "  border-radius: 0.25em;\n",
       "  color: var(--sklearn-color-text);\n",
       "  /* unfitted */\n",
       "  background-color: var(--sklearn-color-unfitted-level-0);\n",
       "}\n",
       "\n",
       "#sk-container-id-1 div.sk-toggleable__content.fitted pre {\n",
       "  /* unfitted */\n",
       "  background-color: var(--sklearn-color-fitted-level-0);\n",
       "}\n",
       "\n",
       "#sk-container-id-1 input.sk-toggleable__control:checked~div.sk-toggleable__content {\n",
       "  /* Expand drop-down */\n",
       "  max-height: 200px;\n",
       "  max-width: 100%;\n",
       "  overflow: auto;\n",
       "}\n",
       "\n",
       "#sk-container-id-1 input.sk-toggleable__control:checked~label.sk-toggleable__label-arrow:before {\n",
       "  content: \"▾\";\n",
       "}\n",
       "\n",
       "/* Pipeline/ColumnTransformer-specific style */\n",
       "\n",
       "#sk-container-id-1 div.sk-label input.sk-toggleable__control:checked~label.sk-toggleable__label {\n",
       "  color: var(--sklearn-color-text);\n",
       "  background-color: var(--sklearn-color-unfitted-level-2);\n",
       "}\n",
       "\n",
       "#sk-container-id-1 div.sk-label.fitted input.sk-toggleable__control:checked~label.sk-toggleable__label {\n",
       "  background-color: var(--sklearn-color-fitted-level-2);\n",
       "}\n",
       "\n",
       "/* Estimator-specific style */\n",
       "\n",
       "/* Colorize estimator box */\n",
       "#sk-container-id-1 div.sk-estimator input.sk-toggleable__control:checked~label.sk-toggleable__label {\n",
       "  /* unfitted */\n",
       "  background-color: var(--sklearn-color-unfitted-level-2);\n",
       "}\n",
       "\n",
       "#sk-container-id-1 div.sk-estimator.fitted input.sk-toggleable__control:checked~label.sk-toggleable__label {\n",
       "  /* fitted */\n",
       "  background-color: var(--sklearn-color-fitted-level-2);\n",
       "}\n",
       "\n",
       "#sk-container-id-1 div.sk-label label.sk-toggleable__label,\n",
       "#sk-container-id-1 div.sk-label label {\n",
       "  /* The background is the default theme color */\n",
       "  color: var(--sklearn-color-text-on-default-background);\n",
       "}\n",
       "\n",
       "/* On hover, darken the color of the background */\n",
       "#sk-container-id-1 div.sk-label:hover label.sk-toggleable__label {\n",
       "  color: var(--sklearn-color-text);\n",
       "  background-color: var(--sklearn-color-unfitted-level-2);\n",
       "}\n",
       "\n",
       "/* Label box, darken color on hover, fitted */\n",
       "#sk-container-id-1 div.sk-label.fitted:hover label.sk-toggleable__label.fitted {\n",
       "  color: var(--sklearn-color-text);\n",
       "  background-color: var(--sklearn-color-fitted-level-2);\n",
       "}\n",
       "\n",
       "/* Estimator label */\n",
       "\n",
       "#sk-container-id-1 div.sk-label label {\n",
       "  font-family: monospace;\n",
       "  font-weight: bold;\n",
       "  display: inline-block;\n",
       "  line-height: 1.2em;\n",
       "}\n",
       "\n",
       "#sk-container-id-1 div.sk-label-container {\n",
       "  text-align: center;\n",
       "}\n",
       "\n",
       "/* Estimator-specific */\n",
       "#sk-container-id-1 div.sk-estimator {\n",
       "  font-family: monospace;\n",
       "  border: 1px dotted var(--sklearn-color-border-box);\n",
       "  border-radius: 0.25em;\n",
       "  box-sizing: border-box;\n",
       "  margin-bottom: 0.5em;\n",
       "  /* unfitted */\n",
       "  background-color: var(--sklearn-color-unfitted-level-0);\n",
       "}\n",
       "\n",
       "#sk-container-id-1 div.sk-estimator.fitted {\n",
       "  /* fitted */\n",
       "  background-color: var(--sklearn-color-fitted-level-0);\n",
       "}\n",
       "\n",
       "/* on hover */\n",
       "#sk-container-id-1 div.sk-estimator:hover {\n",
       "  /* unfitted */\n",
       "  background-color: var(--sklearn-color-unfitted-level-2);\n",
       "}\n",
       "\n",
       "#sk-container-id-1 div.sk-estimator.fitted:hover {\n",
       "  /* fitted */\n",
       "  background-color: var(--sklearn-color-fitted-level-2);\n",
       "}\n",
       "\n",
       "/* Specification for estimator info (e.g. \"i\" and \"?\") */\n",
       "\n",
       "/* Common style for \"i\" and \"?\" */\n",
       "\n",
       ".sk-estimator-doc-link,\n",
       "a:link.sk-estimator-doc-link,\n",
       "a:visited.sk-estimator-doc-link {\n",
       "  float: right;\n",
       "  font-size: smaller;\n",
       "  line-height: 1em;\n",
       "  font-family: monospace;\n",
       "  background-color: var(--sklearn-color-background);\n",
       "  border-radius: 1em;\n",
       "  height: 1em;\n",
       "  width: 1em;\n",
       "  text-decoration: none !important;\n",
       "  margin-left: 1ex;\n",
       "  /* unfitted */\n",
       "  border: var(--sklearn-color-unfitted-level-1) 1pt solid;\n",
       "  color: var(--sklearn-color-unfitted-level-1);\n",
       "}\n",
       "\n",
       ".sk-estimator-doc-link.fitted,\n",
       "a:link.sk-estimator-doc-link.fitted,\n",
       "a:visited.sk-estimator-doc-link.fitted {\n",
       "  /* fitted */\n",
       "  border: var(--sklearn-color-fitted-level-1) 1pt solid;\n",
       "  color: var(--sklearn-color-fitted-level-1);\n",
       "}\n",
       "\n",
       "/* On hover */\n",
       "div.sk-estimator:hover .sk-estimator-doc-link:hover,\n",
       ".sk-estimator-doc-link:hover,\n",
       "div.sk-label-container:hover .sk-estimator-doc-link:hover,\n",
       ".sk-estimator-doc-link:hover {\n",
       "  /* unfitted */\n",
       "  background-color: var(--sklearn-color-unfitted-level-3);\n",
       "  color: var(--sklearn-color-background);\n",
       "  text-decoration: none;\n",
       "}\n",
       "\n",
       "div.sk-estimator.fitted:hover .sk-estimator-doc-link.fitted:hover,\n",
       ".sk-estimator-doc-link.fitted:hover,\n",
       "div.sk-label-container:hover .sk-estimator-doc-link.fitted:hover,\n",
       ".sk-estimator-doc-link.fitted:hover {\n",
       "  /* fitted */\n",
       "  background-color: var(--sklearn-color-fitted-level-3);\n",
       "  color: var(--sklearn-color-background);\n",
       "  text-decoration: none;\n",
       "}\n",
       "\n",
       "/* Span, style for the box shown on hovering the info icon */\n",
       ".sk-estimator-doc-link span {\n",
       "  display: none;\n",
       "  z-index: 9999;\n",
       "  position: relative;\n",
       "  font-weight: normal;\n",
       "  right: .2ex;\n",
       "  padding: .5ex;\n",
       "  margin: .5ex;\n",
       "  width: min-content;\n",
       "  min-width: 20ex;\n",
       "  max-width: 50ex;\n",
       "  color: var(--sklearn-color-text);\n",
       "  box-shadow: 2pt 2pt 4pt #999;\n",
       "  /* unfitted */\n",
       "  background: var(--sklearn-color-unfitted-level-0);\n",
       "  border: .5pt solid var(--sklearn-color-unfitted-level-3);\n",
       "}\n",
       "\n",
       ".sk-estimator-doc-link.fitted span {\n",
       "  /* fitted */\n",
       "  background: var(--sklearn-color-fitted-level-0);\n",
       "  border: var(--sklearn-color-fitted-level-3);\n",
       "}\n",
       "\n",
       ".sk-estimator-doc-link:hover span {\n",
       "  display: block;\n",
       "}\n",
       "\n",
       "/* \"?\"-specific style due to the `<a>` HTML tag */\n",
       "\n",
       "#sk-container-id-1 a.estimator_doc_link {\n",
       "  float: right;\n",
       "  font-size: 1rem;\n",
       "  line-height: 1em;\n",
       "  font-family: monospace;\n",
       "  background-color: var(--sklearn-color-background);\n",
       "  border-radius: 1rem;\n",
       "  height: 1rem;\n",
       "  width: 1rem;\n",
       "  text-decoration: none;\n",
       "  /* unfitted */\n",
       "  color: var(--sklearn-color-unfitted-level-1);\n",
       "  border: var(--sklearn-color-unfitted-level-1) 1pt solid;\n",
       "}\n",
       "\n",
       "#sk-container-id-1 a.estimator_doc_link.fitted {\n",
       "  /* fitted */\n",
       "  border: var(--sklearn-color-fitted-level-1) 1pt solid;\n",
       "  color: var(--sklearn-color-fitted-level-1);\n",
       "}\n",
       "\n",
       "/* On hover */\n",
       "#sk-container-id-1 a.estimator_doc_link:hover {\n",
       "  /* unfitted */\n",
       "  background-color: var(--sklearn-color-unfitted-level-3);\n",
       "  color: var(--sklearn-color-background);\n",
       "  text-decoration: none;\n",
       "}\n",
       "\n",
       "#sk-container-id-1 a.estimator_doc_link.fitted:hover {\n",
       "  /* fitted */\n",
       "  background-color: var(--sklearn-color-fitted-level-3);\n",
       "}\n",
       "</style><div id=\"sk-container-id-1\" class=\"sk-top-container\"><div class=\"sk-text-repr-fallback\"><pre>GridSearchCV(estimator=SVC(),\n",
       "             param_grid={&#x27;C&#x27;: [0.01, 0.1, 1], &#x27;degree&#x27;: [1, 2, 3],\n",
       "                         &#x27;gamma&#x27;: [1, 0.1, 0.01],\n",
       "                         &#x27;kernel&#x27;: [&#x27;poly&#x27;, &#x27;rbf&#x27;, &#x27;linear&#x27;, &#x27;sigmoid&#x27;]})</pre><b>In a Jupyter environment, please rerun this cell to show the HTML representation or trust the notebook. <br />On GitHub, the HTML representation is unable to render, please try loading this page with nbviewer.org.</b></div><div class=\"sk-container\" hidden><div class=\"sk-item sk-dashed-wrapped\"><div class=\"sk-label-container\"><div class=\"sk-label fitted sk-toggleable\"><input class=\"sk-toggleable__control sk-hidden--visually\" id=\"sk-estimator-id-1\" type=\"checkbox\" ><label for=\"sk-estimator-id-1\" class=\"sk-toggleable__label fitted sk-toggleable__label-arrow fitted\">&nbsp;&nbsp;GridSearchCV<a class=\"sk-estimator-doc-link fitted\" rel=\"noreferrer\" target=\"_blank\" href=\"https://scikit-learn.org/1.4/modules/generated/sklearn.model_selection.GridSearchCV.html\">?<span>Documentation for GridSearchCV</span></a><span class=\"sk-estimator-doc-link fitted\">i<span>Fitted</span></span></label><div class=\"sk-toggleable__content fitted\"><pre>GridSearchCV(estimator=SVC(),\n",
       "             param_grid={&#x27;C&#x27;: [0.01, 0.1, 1], &#x27;degree&#x27;: [1, 2, 3],\n",
       "                         &#x27;gamma&#x27;: [1, 0.1, 0.01],\n",
       "                         &#x27;kernel&#x27;: [&#x27;poly&#x27;, &#x27;rbf&#x27;, &#x27;linear&#x27;, &#x27;sigmoid&#x27;]})</pre></div> </div></div><div class=\"sk-parallel\"><div class=\"sk-parallel-item\"><div class=\"sk-item\"><div class=\"sk-label-container\"><div class=\"sk-label fitted sk-toggleable\"><input class=\"sk-toggleable__control sk-hidden--visually\" id=\"sk-estimator-id-2\" type=\"checkbox\" ><label for=\"sk-estimator-id-2\" class=\"sk-toggleable__label fitted sk-toggleable__label-arrow fitted\">estimator: SVC</label><div class=\"sk-toggleable__content fitted\"><pre>SVC()</pre></div> </div></div><div class=\"sk-serial\"><div class=\"sk-item\"><div class=\"sk-estimator fitted sk-toggleable\"><input class=\"sk-toggleable__control sk-hidden--visually\" id=\"sk-estimator-id-3\" type=\"checkbox\" ><label for=\"sk-estimator-id-3\" class=\"sk-toggleable__label fitted sk-toggleable__label-arrow fitted\">&nbsp;SVC<a class=\"sk-estimator-doc-link fitted\" rel=\"noreferrer\" target=\"_blank\" href=\"https://scikit-learn.org/1.4/modules/generated/sklearn.svm.SVC.html\">?<span>Documentation for SVC</span></a></label><div class=\"sk-toggleable__content fitted\"><pre>SVC()</pre></div> </div></div></div></div></div></div></div></div></div>"
      ],
      "text/plain": [
       "GridSearchCV(estimator=SVC(),\n",
       "             param_grid={'C': [0.01, 0.1, 1], 'degree': [1, 2, 3],\n",
       "                         'gamma': [1, 0.1, 0.01],\n",
       "                         'kernel': ['poly', 'rbf', 'linear', 'sigmoid']})"
      ]
     },
     "execution_count": 27,
     "metadata": {},
     "output_type": "execute_result"
    }
   ],
   "source": [
    "class_svc_gs_new = svm.SVC()\n",
    "param_grid = {'kernel':['poly','rbf', 'linear','sigmoid'], 'degree':[1,2,3], 'C':[0.01,0.1,1], 'gamma': [1,0.1,0.01]}\n",
    "gs_svm_new = GridSearchCV(class_svc_gs_new, param_grid)\n",
    "gs_svm_new.fit(X_train_gs_scale, y_train_gs)"
   ]
  },
  {
   "cell_type": "code",
   "execution_count": 28,
   "id": "5e22c01c-7c3f-40a1-b681-2ca9cd0c6190",
   "metadata": {},
   "outputs": [
    {
     "name": "stdout",
     "output_type": "stream",
     "text": [
      "SVC(C=0.01, gamma=1, kernel='poly')\n",
      "Train Score: 0.9416\n"
     ]
    }
   ],
   "source": [
    "print(gs_svm_new.best_estimator_)\n",
    "print(\"Train Score:\",gs_svm_new.best_score_)"
   ]
  },
  {
   "cell_type": "markdown",
   "id": "69d241b0-b137-4686-8db7-36873363496c",
   "metadata": {},
   "source": [
    "### Bästa parametrarna är"
   ]
  },
  {
   "cell_type": "code",
   "execution_count": 29,
   "id": "efeba7d2-a602-4463-8734-65a2773f6427",
   "metadata": {},
   "outputs": [
    {
     "name": "stdout",
     "output_type": "stream",
     "text": [
      "Best Parameters: {'C': 0.01, 'degree': 3, 'gamma': 1, 'kernel': 'poly'}\n"
     ]
    }
   ],
   "source": [
    "print(\"Best Parameters:\",gs_svm_new.best_params_)"
   ]
  },
  {
   "cell_type": "code",
   "execution_count": 30,
   "id": "4fe7f1f3-f23b-4860-b89a-eab4b90b1f70",
   "metadata": {
    "scrolled": true
   },
   "outputs": [
    {
     "data": {
      "text/html": [
       "<div>\n",
       "<style scoped>\n",
       "    .dataframe tbody tr th:only-of-type {\n",
       "        vertical-align: middle;\n",
       "    }\n",
       "\n",
       "    .dataframe tbody tr th {\n",
       "        vertical-align: top;\n",
       "    }\n",
       "\n",
       "    .dataframe thead th {\n",
       "        text-align: right;\n",
       "    }\n",
       "</style>\n",
       "<table border=\"1\" class=\"dataframe\">\n",
       "  <thead>\n",
       "    <tr style=\"text-align: right;\">\n",
       "      <th></th>\n",
       "      <th>mean_fit_time</th>\n",
       "      <th>std_fit_time</th>\n",
       "      <th>mean_score_time</th>\n",
       "      <th>std_score_time</th>\n",
       "      <th>param_C</th>\n",
       "      <th>param_degree</th>\n",
       "      <th>param_gamma</th>\n",
       "      <th>param_kernel</th>\n",
       "      <th>params</th>\n",
       "      <th>split0_test_score</th>\n",
       "      <th>split1_test_score</th>\n",
       "      <th>split2_test_score</th>\n",
       "      <th>split3_test_score</th>\n",
       "      <th>split4_test_score</th>\n",
       "      <th>mean_test_score</th>\n",
       "      <th>std_test_score</th>\n",
       "      <th>rank_test_score</th>\n",
       "    </tr>\n",
       "  </thead>\n",
       "  <tbody>\n",
       "    <tr>\n",
       "      <th>0</th>\n",
       "      <td>0.673357</td>\n",
       "      <td>0.028977</td>\n",
       "      <td>0.330866</td>\n",
       "      <td>0.031306</td>\n",
       "      <td>0.01</td>\n",
       "      <td>1</td>\n",
       "      <td>1</td>\n",
       "      <td>poly</td>\n",
       "      <td>{'C': 0.01, 'degree': 1, 'gamma': 1, 'kernel':...</td>\n",
       "      <td>0.920</td>\n",
       "      <td>0.907</td>\n",
       "      <td>0.923</td>\n",
       "      <td>0.920</td>\n",
       "      <td>0.916</td>\n",
       "      <td>0.9172</td>\n",
       "      <td>0.005564</td>\n",
       "      <td>17</td>\n",
       "    </tr>\n",
       "    <tr>\n",
       "      <th>1</th>\n",
       "      <td>6.369020</td>\n",
       "      <td>0.436066</td>\n",
       "      <td>2.237438</td>\n",
       "      <td>0.165461</td>\n",
       "      <td>0.01</td>\n",
       "      <td>1</td>\n",
       "      <td>1</td>\n",
       "      <td>rbf</td>\n",
       "      <td>{'C': 0.01, 'degree': 1, 'gamma': 1, 'kernel':...</td>\n",
       "      <td>0.121</td>\n",
       "      <td>0.120</td>\n",
       "      <td>0.120</td>\n",
       "      <td>0.120</td>\n",
       "      <td>0.120</td>\n",
       "      <td>0.1202</td>\n",
       "      <td>0.000400</td>\n",
       "      <td>91</td>\n",
       "    </tr>\n",
       "    <tr>\n",
       "      <th>2</th>\n",
       "      <td>0.868775</td>\n",
       "      <td>0.101638</td>\n",
       "      <td>0.408786</td>\n",
       "      <td>0.020834</td>\n",
       "      <td>0.01</td>\n",
       "      <td>1</td>\n",
       "      <td>1</td>\n",
       "      <td>linear</td>\n",
       "      <td>{'C': 0.01, 'degree': 1, 'gamma': 1, 'kernel':...</td>\n",
       "      <td>0.920</td>\n",
       "      <td>0.907</td>\n",
       "      <td>0.923</td>\n",
       "      <td>0.920</td>\n",
       "      <td>0.916</td>\n",
       "      <td>0.9172</td>\n",
       "      <td>0.005564</td>\n",
       "      <td>17</td>\n",
       "    </tr>\n",
       "    <tr>\n",
       "      <th>3</th>\n",
       "      <td>3.892215</td>\n",
       "      <td>0.406097</td>\n",
       "      <td>1.396323</td>\n",
       "      <td>0.059291</td>\n",
       "      <td>0.01</td>\n",
       "      <td>1</td>\n",
       "      <td>1</td>\n",
       "      <td>sigmoid</td>\n",
       "      <td>{'C': 0.01, 'degree': 1, 'gamma': 1, 'kernel':...</td>\n",
       "      <td>0.464</td>\n",
       "      <td>0.480</td>\n",
       "      <td>0.462</td>\n",
       "      <td>0.466</td>\n",
       "      <td>0.490</td>\n",
       "      <td>0.4724</td>\n",
       "      <td>0.010837</td>\n",
       "      <td>70</td>\n",
       "    </tr>\n",
       "    <tr>\n",
       "      <th>4</th>\n",
       "      <td>1.217488</td>\n",
       "      <td>0.185602</td>\n",
       "      <td>0.599711</td>\n",
       "      <td>0.084528</td>\n",
       "      <td>0.01</td>\n",
       "      <td>1</td>\n",
       "      <td>0.1</td>\n",
       "      <td>poly</td>\n",
       "      <td>{'C': 0.01, 'degree': 1, 'gamma': 0.1, 'kernel...</td>\n",
       "      <td>0.915</td>\n",
       "      <td>0.908</td>\n",
       "      <td>0.925</td>\n",
       "      <td>0.917</td>\n",
       "      <td>0.913</td>\n",
       "      <td>0.9156</td>\n",
       "      <td>0.005571</td>\n",
       "      <td>29</td>\n",
       "    </tr>\n",
       "    <tr>\n",
       "      <th>...</th>\n",
       "      <td>...</td>\n",
       "      <td>...</td>\n",
       "      <td>...</td>\n",
       "      <td>...</td>\n",
       "      <td>...</td>\n",
       "      <td>...</td>\n",
       "      <td>...</td>\n",
       "      <td>...</td>\n",
       "      <td>...</td>\n",
       "      <td>...</td>\n",
       "      <td>...</td>\n",
       "      <td>...</td>\n",
       "      <td>...</td>\n",
       "      <td>...</td>\n",
       "      <td>...</td>\n",
       "      <td>...</td>\n",
       "      <td>...</td>\n",
       "    </tr>\n",
       "    <tr>\n",
       "      <th>103</th>\n",
       "      <td>2.192709</td>\n",
       "      <td>0.490085</td>\n",
       "      <td>1.164227</td>\n",
       "      <td>0.154108</td>\n",
       "      <td>1</td>\n",
       "      <td>3</td>\n",
       "      <td>0.1</td>\n",
       "      <td>sigmoid</td>\n",
       "      <td>{'C': 1, 'degree': 3, 'gamma': 0.1, 'kernel': ...</td>\n",
       "      <td>0.332</td>\n",
       "      <td>0.344</td>\n",
       "      <td>0.335</td>\n",
       "      <td>0.326</td>\n",
       "      <td>0.308</td>\n",
       "      <td>0.3290</td>\n",
       "      <td>0.012000</td>\n",
       "      <td>76</td>\n",
       "    </tr>\n",
       "    <tr>\n",
       "      <th>104</th>\n",
       "      <td>2.781045</td>\n",
       "      <td>0.434048</td>\n",
       "      <td>0.624900</td>\n",
       "      <td>0.068810</td>\n",
       "      <td>1</td>\n",
       "      <td>3</td>\n",
       "      <td>0.01</td>\n",
       "      <td>poly</td>\n",
       "      <td>{'C': 1, 'degree': 3, 'gamma': 0.01, 'kernel':...</td>\n",
       "      <td>0.948</td>\n",
       "      <td>0.944</td>\n",
       "      <td>0.946</td>\n",
       "      <td>0.941</td>\n",
       "      <td>0.929</td>\n",
       "      <td>0.9416</td>\n",
       "      <td>0.006711</td>\n",
       "      <td>1</td>\n",
       "    </tr>\n",
       "    <tr>\n",
       "      <th>105</th>\n",
       "      <td>5.175211</td>\n",
       "      <td>0.298324</td>\n",
       "      <td>1.801181</td>\n",
       "      <td>0.198466</td>\n",
       "      <td>1</td>\n",
       "      <td>3</td>\n",
       "      <td>0.01</td>\n",
       "      <td>rbf</td>\n",
       "      <td>{'C': 1, 'degree': 3, 'gamma': 0.01, 'kernel':...</td>\n",
       "      <td>0.705</td>\n",
       "      <td>0.703</td>\n",
       "      <td>0.693</td>\n",
       "      <td>0.707</td>\n",
       "      <td>0.689</td>\n",
       "      <td>0.6994</td>\n",
       "      <td>0.007088</td>\n",
       "      <td>58</td>\n",
       "    </tr>\n",
       "    <tr>\n",
       "      <th>106</th>\n",
       "      <td>0.900493</td>\n",
       "      <td>0.201360</td>\n",
       "      <td>0.418099</td>\n",
       "      <td>0.069753</td>\n",
       "      <td>1</td>\n",
       "      <td>3</td>\n",
       "      <td>0.01</td>\n",
       "      <td>linear</td>\n",
       "      <td>{'C': 1, 'degree': 3, 'gamma': 0.01, 'kernel':...</td>\n",
       "      <td>0.905</td>\n",
       "      <td>0.896</td>\n",
       "      <td>0.913</td>\n",
       "      <td>0.913</td>\n",
       "      <td>0.896</td>\n",
       "      <td>0.9046</td>\n",
       "      <td>0.007605</td>\n",
       "      <td>33</td>\n",
       "    </tr>\n",
       "    <tr>\n",
       "      <th>107</th>\n",
       "      <td>0.953604</td>\n",
       "      <td>0.040641</td>\n",
       "      <td>0.594813</td>\n",
       "      <td>0.019049</td>\n",
       "      <td>1</td>\n",
       "      <td>3</td>\n",
       "      <td>0.01</td>\n",
       "      <td>sigmoid</td>\n",
       "      <td>{'C': 1, 'degree': 3, 'gamma': 0.01, 'kernel':...</td>\n",
       "      <td>0.588</td>\n",
       "      <td>0.599</td>\n",
       "      <td>0.572</td>\n",
       "      <td>0.570</td>\n",
       "      <td>0.564</td>\n",
       "      <td>0.5786</td>\n",
       "      <td>0.012924</td>\n",
       "      <td>64</td>\n",
       "    </tr>\n",
       "  </tbody>\n",
       "</table>\n",
       "<p>108 rows × 17 columns</p>\n",
       "</div>"
      ],
      "text/plain": [
       "     mean_fit_time  std_fit_time  mean_score_time  std_score_time param_C  \\\n",
       "0         0.673357      0.028977         0.330866        0.031306    0.01   \n",
       "1         6.369020      0.436066         2.237438        0.165461    0.01   \n",
       "2         0.868775      0.101638         0.408786        0.020834    0.01   \n",
       "3         3.892215      0.406097         1.396323        0.059291    0.01   \n",
       "4         1.217488      0.185602         0.599711        0.084528    0.01   \n",
       "..             ...           ...              ...             ...     ...   \n",
       "103       2.192709      0.490085         1.164227        0.154108       1   \n",
       "104       2.781045      0.434048         0.624900        0.068810       1   \n",
       "105       5.175211      0.298324         1.801181        0.198466       1   \n",
       "106       0.900493      0.201360         0.418099        0.069753       1   \n",
       "107       0.953604      0.040641         0.594813        0.019049       1   \n",
       "\n",
       "    param_degree param_gamma param_kernel  \\\n",
       "0              1           1         poly   \n",
       "1              1           1          rbf   \n",
       "2              1           1       linear   \n",
       "3              1           1      sigmoid   \n",
       "4              1         0.1         poly   \n",
       "..           ...         ...          ...   \n",
       "103            3         0.1      sigmoid   \n",
       "104            3        0.01         poly   \n",
       "105            3        0.01          rbf   \n",
       "106            3        0.01       linear   \n",
       "107            3        0.01      sigmoid   \n",
       "\n",
       "                                                params  split0_test_score  \\\n",
       "0    {'C': 0.01, 'degree': 1, 'gamma': 1, 'kernel':...              0.920   \n",
       "1    {'C': 0.01, 'degree': 1, 'gamma': 1, 'kernel':...              0.121   \n",
       "2    {'C': 0.01, 'degree': 1, 'gamma': 1, 'kernel':...              0.920   \n",
       "3    {'C': 0.01, 'degree': 1, 'gamma': 1, 'kernel':...              0.464   \n",
       "4    {'C': 0.01, 'degree': 1, 'gamma': 0.1, 'kernel...              0.915   \n",
       "..                                                 ...                ...   \n",
       "103  {'C': 1, 'degree': 3, 'gamma': 0.1, 'kernel': ...              0.332   \n",
       "104  {'C': 1, 'degree': 3, 'gamma': 0.01, 'kernel':...              0.948   \n",
       "105  {'C': 1, 'degree': 3, 'gamma': 0.01, 'kernel':...              0.705   \n",
       "106  {'C': 1, 'degree': 3, 'gamma': 0.01, 'kernel':...              0.905   \n",
       "107  {'C': 1, 'degree': 3, 'gamma': 0.01, 'kernel':...              0.588   \n",
       "\n",
       "     split1_test_score  split2_test_score  split3_test_score  \\\n",
       "0                0.907              0.923              0.920   \n",
       "1                0.120              0.120              0.120   \n",
       "2                0.907              0.923              0.920   \n",
       "3                0.480              0.462              0.466   \n",
       "4                0.908              0.925              0.917   \n",
       "..                 ...                ...                ...   \n",
       "103              0.344              0.335              0.326   \n",
       "104              0.944              0.946              0.941   \n",
       "105              0.703              0.693              0.707   \n",
       "106              0.896              0.913              0.913   \n",
       "107              0.599              0.572              0.570   \n",
       "\n",
       "     split4_test_score  mean_test_score  std_test_score  rank_test_score  \n",
       "0                0.916           0.9172        0.005564               17  \n",
       "1                0.120           0.1202        0.000400               91  \n",
       "2                0.916           0.9172        0.005564               17  \n",
       "3                0.490           0.4724        0.010837               70  \n",
       "4                0.913           0.9156        0.005571               29  \n",
       "..                 ...              ...             ...              ...  \n",
       "103              0.308           0.3290        0.012000               76  \n",
       "104              0.929           0.9416        0.006711                1  \n",
       "105              0.689           0.6994        0.007088               58  \n",
       "106              0.896           0.9046        0.007605               33  \n",
       "107              0.564           0.5786        0.012924               64  \n",
       "\n",
       "[108 rows x 17 columns]"
      ]
     },
     "execution_count": 30,
     "metadata": {},
     "output_type": "execute_result"
    }
   ],
   "source": [
    "pd.DataFrame(gs_svm_new.cv_results_)"
   ]
  },
  {
   "cell_type": "markdown",
   "id": "3db13f3b-ac2a-40e7-b369-3ced24a878b1",
   "metadata": {},
   "source": [
    "# Träna modellen med valda hyperparametrar"
   ]
  },
  {
   "cell_type": "code",
   "execution_count": 31,
   "id": "01ea2576-4526-4f5c-a597-0993ae3755a7",
   "metadata": {},
   "outputs": [],
   "source": [
    "X_train_scale = scaler_model.transform(X_train)\n",
    "X_test_scale = scaler_model.transform(X_test)"
   ]
  },
  {
   "cell_type": "code",
   "execution_count": 32,
   "id": "25367606-8fb9-4fb9-bb5a-c0a88f2df433",
   "metadata": {},
   "outputs": [
    {
     "name": "stdout",
     "output_type": "stream",
     "text": [
      "Accuracy of model = 0.9788\n"
     ]
    },
    {
     "data": {
      "text/plain": [
       "['./my_model.joblib']"
      ]
     },
     "execution_count": 32,
     "metadata": {},
     "output_type": "execute_result"
    }
   ],
   "source": [
    "my_model= svm.SVC(kernel='poly', C=0.01, gamma=1, degree=3)\n",
    "my_model.fit(X_train_scale, y_train)\n",
    "y_pred = my_model.predict(X_test_scale)\n",
    "print(\"Accuracy of model =\", accuracy_score(y_test, y_pred))\n",
    "joblib.dump(my_model, \"./my_model.joblib\")"
   ]
  },
  {
   "cell_type": "code",
   "execution_count": 33,
   "id": "d2c0155b-2950-4d09-af60-8f2b0764ba19",
   "metadata": {},
   "outputs": [
    {
     "data": {
      "text/plain": [
       "<sklearn.metrics._plot.confusion_matrix.ConfusionMatrixDisplay at 0x21b04bac610>"
      ]
     },
     "execution_count": 33,
     "metadata": {},
     "output_type": "execute_result"
    },
    {
     "data": {
      "image/png": "[encoded data removed]",
      "text/plain": [
       "<Figure size 640x480 with 2 Axes>"
      ]
     },
     "metadata": {},
     "output_type": "display_data"
    }
   ],
   "source": [
    "confmatrix = confusion_matrix(y_test, y_pred, labels=my_model.classes_)\n",
    "display_matrix = ConfusionMatrixDisplay(confusion_matrix=confmatrix, display_labels=my_model.classes_)\n",
    "display_matrix.plot()"
   ]
  },
  {
   "cell_type": "code",
   "execution_count": 34,
   "id": "58d13e82-473a-4384-a714-cedc36a67b9a",
   "metadata": {},
   "outputs": [
    {
     "name": "stdout",
     "output_type": "stream",
     "text": [
      "              precision    recall  f1-score   support\n",
      "\n",
      "           0       0.99      0.99      0.99       983\n",
      "           1       1.00      0.99      0.99      1152\n",
      "           2       0.97      0.99      0.98       967\n",
      "           3       0.98      0.97      0.98      1034\n",
      "           4       0.97      0.98      0.98       906\n",
      "           5       0.97      0.98      0.98       937\n",
      "           6       0.99      0.99      0.99       961\n",
      "           7       0.98      0.98      0.98      1055\n",
      "           8       0.97      0.97      0.97       969\n",
      "           9       0.97      0.96      0.97      1036\n",
      "\n",
      "    accuracy                           0.98     10000\n",
      "   macro avg       0.98      0.98      0.98     10000\n",
      "weighted avg       0.98      0.98      0.98     10000\n",
      "\n"
     ]
    }
   ],
   "source": [
    "print(classification_report(y_test, y_pred))"
   ]
  },
  {
   "cell_type": "markdown",
   "id": "bcd6f45f-d779-42a0-91e4-b3814f92f069",
   "metadata": {},
   "source": [
    "### För nyfikenhet kontrollera vad SVC hade levererat med standardparametrar"
   ]
  },
  {
   "cell_type": "code",
   "execution_count": 35,
   "id": "97506ec3-6d91-49a2-a2f7-481753a6abcd",
   "metadata": {},
   "outputs": [
    {
     "name": "stdout",
     "output_type": "stream",
     "text": [
      "Accuracy of model = 0.93\n"
     ]
    }
   ],
   "source": [
    "svm_test= svm.SVC()\n",
    "svm_test.fit(X_train_scale, y_train)\n",
    "y_pred_test = svm_test.predict(X_test_scale)\n",
    "print(\"Accuracy of model =\", accuracy_score(y_test, y_pred_test))"
   ]
  },
  {
   "cell_type": "markdown",
   "id": "6ac5fdeb-6e79-451d-a240-952719b20935",
   "metadata": {},
   "source": [
    "# Läsa in bilder, processera och skapa streamlit-app"
   ]
  },
  {
   "cell_type": "code",
   "execution_count": 36,
   "id": "3e14ef49-41bd-4eb1-ba7a-e64c0b5ed812",
   "metadata": {},
   "outputs": [],
   "source": [
    "# create function that will read, change color, reshape and plot my image\n",
    "def fix_image(url):\n",
    "    image =  cv2.imread(url)\n",
    "    grayscale_i = cv2.cvtColor(image, cv2.COLOR_BGR2GRAY)\n",
    "    (thresh, im_bw) = cv2.threshold(grayscale_i, 64, 255, cv2.THRESH_BINARY | cv2.THRESH_OTSU)\n",
    "    smaller_i = cv2.resize(src=im_bw, dsize=(28,28), interpolation=cv2.INTER_NEAREST)\n",
    "    inverted_i = cv2.bitwise_not(smaller_i)\n",
    "    flatten_i = inverted_i.flatten()\n",
    "    reshaped_i = flatten_i.reshape(1,-1)\n",
    "    scaler_model = joblib.load(\"./scaler_model.joblib\")\n",
    "    scaled_i = scaler_model.transform(reshaped_i)\n",
    "    return scaled_i"
   ]
  },
  {
   "cell_type": "code",
   "execution_count": 37,
   "id": "99ffb1e6-e39d-4ec8-a753-3bfaafb209b9",
   "metadata": {
    "scrolled": true
   },
   "outputs": [
    {
     "name": "stdout",
     "output_type": "stream",
     "text": [
      "[1]\n"
     ]
    }
   ],
   "source": [
    "img_check = fix_image('1_.png')\n",
    "my_model = joblib.load(\"./my_model.joblib\")\n",
    "print(my_model.predict(img_check))"
   ]
  },
  {
   "cell_type": "markdown",
   "id": "9f89ee8b-1fe4-4440-9bcd-1d40bdb7dfa4",
   "metadata": {},
   "source": [
    "### Kontrollera resultat med flera handskrivna bilder"
   ]
  },
  {
   "cell_type": "code",
   "execution_count": 38,
   "id": "4286c16e-2473-47ed-a583-28f613dd65da",
   "metadata": {},
   "outputs": [
    {
     "name": "stdout",
     "output_type": "stream",
     "text": [
      "[1]\n",
      "[2]\n",
      "[3]\n",
      "[4]\n",
      "[7]\n",
      "[0]\n",
      "[3]\n",
      "[3]\n",
      "[2]\n",
      "range(0, 9)\n"
     ]
    },
    {
     "data": {
      "image/png": "[encoded data removed]",
      "text/plain": [
       "<Figure size 640x480 with 9 Axes>"
      ]
     },
     "metadata": {},
     "output_type": "display_data"
    }
   ],
   "source": [
    "images = ['1-5.png','2-5.png','3-5.png','4-5.png','5-5.png','6-5.png','7-5.png','8-5.png','9-5.png']\n",
    "img_check = []\n",
    "for i in images:\n",
    "    img_check_up = fix_image(i)\n",
    "    img_check.append(img_check_up.copy())\n",
    "    print(my_model.predict(img_check_up))\n",
    "\n",
    "number=0\n",
    "plotnumber=431\n",
    "print(range(len(img_check)))\n",
    "for n in range(len(img_check)):  \n",
    "    plt.subplot(plotnumber)\n",
    "    plt.imshow((img_check[number].reshape(28,28)), cmap=plt.cm.gray_r, interpolation='nearest')\n",
    "    number=number+1\n",
    "    plotnumber=plotnumber+1"
   ]
  },
  {
   "cell_type": "markdown",
   "id": "fef06307-220b-4dd0-8975-382dad9ea98b",
   "metadata": {},
   "source": [
    "### Kontrollera resultat med flera paint-bilder"
   ]
  },
  {
   "cell_type": "code",
   "execution_count": 39,
   "id": "735d29c9-0e4b-419a-a9c2-c8bef8ed0ca2",
   "metadata": {},
   "outputs": [
    {
     "name": "stdout",
     "output_type": "stream",
     "text": [
      "[1]\n",
      "[2]\n",
      "[5]\n",
      "[7]\n",
      "[5]\n",
      "[4]\n",
      "[3]\n",
      "[8]\n",
      "[8]\n"
     ]
    },
    {
     "data": {
      "image/png": "[encoded data removed]",
      "text/plain": [
       "<Figure size 640x480 with 9 Axes>"
      ]
     },
     "metadata": {},
     "output_type": "display_data"
    }
   ],
   "source": [
    "images2 = ['1_.png','2_.png','3_.png','4_.png','5_.png','6_.png','7_.png','8_.png','9_.png']\n",
    "img_check2 = []\n",
    "for i in images2:\n",
    "    img_check_up2 = fix_image(i)\n",
    "    img_check2.append(img_check_up2.copy())\n",
    "    print(my_model.predict(img_check_up2))\n",
    "\n",
    "number=0\n",
    "plotnumber=431\n",
    "for n in range(len(img_check2)):  \n",
    "    plt.subplot(plotnumber)\n",
    "    plt.imshow((img_check2[number].reshape(28,28)), cmap=plt.cm.gray_r, interpolation='nearest')\n",
    "    number=number+1\n",
    "    plotnumber=plotnumber+1"
   ]
  }
 ],
 "metadata": {
  "kernelspec": {
   "display_name": "Python 3 (ipykernel)",
   "language": "python",
   "name": "python3"
  },
  "language_info": {
   "codemirror_mode": {
    "name": "ipython",
    "version": 3
   },
   "file_extension": ".py",
   "mimetype": "text/x-python",
   "name": "python",
   "nbconvert_exporter": "python",
   "pygments_lexer": "ipython3",
   "version": "3.11.8"
  }
 },
 "nbformat": 4,
 "nbformat_minor": 5
}
